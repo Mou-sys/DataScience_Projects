{
 "cells": [
  {
   "cell_type": "code",
   "execution_count": 1,
   "id": "364f6c9a",
   "metadata": {},
   "outputs": [],
   "source": [
    "import numpy as np\n",
    "import pandas as pd"
   ]
  },
  {
   "cell_type": "code",
   "execution_count": 2,
   "id": "013afafa",
   "metadata": {},
   "outputs": [],
   "source": [
    "df_advert=pd.read_csv('Advertising.csv')"
   ]
  },
  {
   "cell_type": "code",
   "execution_count": 3,
   "id": "96855692",
   "metadata": {},
   "outputs": [
    {
     "data": {
      "text/html": [
       "<div>\n",
       "<style scoped>\n",
       "    .dataframe tbody tr th:only-of-type {\n",
       "        vertical-align: middle;\n",
       "    }\n",
       "\n",
       "    .dataframe tbody tr th {\n",
       "        vertical-align: top;\n",
       "    }\n",
       "\n",
       "    .dataframe thead th {\n",
       "        text-align: right;\n",
       "    }\n",
       "</style>\n",
       "<table border=\"1\" class=\"dataframe\">\n",
       "  <thead>\n",
       "    <tr style=\"text-align: right;\">\n",
       "      <th></th>\n",
       "      <th>TV</th>\n",
       "      <th>radio</th>\n",
       "      <th>newspaper</th>\n",
       "      <th>sales</th>\n",
       "    </tr>\n",
       "  </thead>\n",
       "  <tbody>\n",
       "    <tr>\n",
       "      <th>0</th>\n",
       "      <td>230.1</td>\n",
       "      <td>37.8</td>\n",
       "      <td>69.2</td>\n",
       "      <td>22.1</td>\n",
       "    </tr>\n",
       "    <tr>\n",
       "      <th>1</th>\n",
       "      <td>44.5</td>\n",
       "      <td>39.3</td>\n",
       "      <td>45.1</td>\n",
       "      <td>10.4</td>\n",
       "    </tr>\n",
       "    <tr>\n",
       "      <th>2</th>\n",
       "      <td>17.2</td>\n",
       "      <td>45.9</td>\n",
       "      <td>69.3</td>\n",
       "      <td>9.3</td>\n",
       "    </tr>\n",
       "    <tr>\n",
       "      <th>3</th>\n",
       "      <td>151.5</td>\n",
       "      <td>41.3</td>\n",
       "      <td>58.5</td>\n",
       "      <td>18.5</td>\n",
       "    </tr>\n",
       "    <tr>\n",
       "      <th>4</th>\n",
       "      <td>180.8</td>\n",
       "      <td>10.8</td>\n",
       "      <td>58.4</td>\n",
       "      <td>12.9</td>\n",
       "    </tr>\n",
       "  </tbody>\n",
       "</table>\n",
       "</div>"
      ],
      "text/plain": [
       "      TV  radio  newspaper  sales\n",
       "0  230.1   37.8       69.2   22.1\n",
       "1   44.5   39.3       45.1   10.4\n",
       "2   17.2   45.9       69.3    9.3\n",
       "3  151.5   41.3       58.5   18.5\n",
       "4  180.8   10.8       58.4   12.9"
      ]
     },
     "execution_count": 3,
     "metadata": {},
     "output_type": "execute_result"
    }
   ],
   "source": [
    "df_advert.head()"
   ]
  },
  {
   "cell_type": "code",
   "execution_count": 4,
   "id": "619b7e0c",
   "metadata": {},
   "outputs": [
    {
     "data": {
      "text/plain": [
       "(200, 4)"
      ]
     },
     "execution_count": 4,
     "metadata": {},
     "output_type": "execute_result"
    }
   ],
   "source": [
    "df_advert.shape"
   ]
  },
  {
   "cell_type": "code",
   "execution_count": 5,
   "id": "d73cc917",
   "metadata": {},
   "outputs": [
    {
     "data": {
      "text/plain": [
       "TV           0\n",
       "radio        0\n",
       "newspaper    0\n",
       "sales        0\n",
       "dtype: int64"
      ]
     },
     "execution_count": 5,
     "metadata": {},
     "output_type": "execute_result"
    }
   ],
   "source": [
    "# Finding missing values\n",
    "df_advert.isna().sum()"
   ]
  },
  {
   "cell_type": "code",
   "execution_count": 6,
   "id": "01eb9a94",
   "metadata": {},
   "outputs": [
    {
     "data": {
      "image/png": "[encoded data removed]",
      "text/plain": [
       "<Figure size 648x360 with 1 Axes>"
      ]
     },
     "metadata": {
      "needs_background": "light"
     },
     "output_type": "display_data"
    }
   ],
   "source": [
    "# use scatterplot to see relationship b/w features(independent) & target variables(dependent)\n",
    "# relationship b/w Tv & sales\n",
    "import matplotlib.pyplot as plt\n",
    "import seaborn as sb\n",
    "plt.figure(figsize=(9,5))\n",
    "sb.scatterplot(data=df_advert,x='TV',y='sales')\n",
    "plt.title('Scatterplot Sales W.r.t. spending on TV')\n",
    "plt.show()"
   ]
  },
  {
   "cell_type": "code",
   "execution_count": 7,
   "id": "8e0acd0a",
   "metadata": {},
   "outputs": [
    {
     "data": {
      "text/html": [
       "<div>\n",
       "<style scoped>\n",
       "    .dataframe tbody tr th:only-of-type {\n",
       "        vertical-align: middle;\n",
       "    }\n",
       "\n",
       "    .dataframe tbody tr th {\n",
       "        vertical-align: top;\n",
       "    }\n",
       "\n",
       "    .dataframe thead th {\n",
       "        text-align: right;\n",
       "    }\n",
       "</style>\n",
       "<table border=\"1\" class=\"dataframe\">\n",
       "  <thead>\n",
       "    <tr style=\"text-align: right;\">\n",
       "      <th></th>\n",
       "      <th>sales</th>\n",
       "      <th>TV</th>\n",
       "    </tr>\n",
       "  </thead>\n",
       "  <tbody>\n",
       "    <tr>\n",
       "      <th>sales</th>\n",
       "      <td>1.000000</td>\n",
       "      <td>0.782224</td>\n",
       "    </tr>\n",
       "    <tr>\n",
       "      <th>TV</th>\n",
       "      <td>0.782224</td>\n",
       "      <td>1.000000</td>\n",
       "    </tr>\n",
       "  </tbody>\n",
       "</table>\n",
       "</div>"
      ],
      "text/plain": [
       "          sales        TV\n",
       "sales  1.000000  0.782224\n",
       "TV     0.782224  1.000000"
      ]
     },
     "execution_count": 7,
     "metadata": {},
     "output_type": "execute_result"
    }
   ],
   "source": [
    "df_advert[['sales','TV']].corr()"
   ]
  },
  {
   "cell_type": "code",
   "execution_count": 8,
   "id": "e9e363f0",
   "metadata": {},
   "outputs": [
    {
     "data": {
      "image/png": "[encoded data removed]",
      "text/plain": [
       "<Figure size 648x360 with 1 Axes>"
      ]
     },
     "metadata": {
      "needs_background": "light"
     },
     "output_type": "display_data"
    }
   ],
   "source": [
    "# relationship b/w Radio & sales\n",
    "plt.figure(figsize=(9,5))\n",
    "sb.scatterplot(data=df_advert,x='radio',y='sales')\n",
    "plt.title('Scatterplot Sales W.r.t. spending on Radio')\n",
    "plt.show()"
   ]
  },
  {
   "cell_type": "code",
   "execution_count": 9,
   "id": "06ef050b",
   "metadata": {},
   "outputs": [
    {
     "data": {
      "text/html": [
       "<div>\n",
       "<style scoped>\n",
       "    .dataframe tbody tr th:only-of-type {\n",
       "        vertical-align: middle;\n",
       "    }\n",
       "\n",
       "    .dataframe tbody tr th {\n",
       "        vertical-align: top;\n",
       "    }\n",
       "\n",
       "    .dataframe thead th {\n",
       "        text-align: right;\n",
       "    }\n",
       "</style>\n",
       "<table border=\"1\" class=\"dataframe\">\n",
       "  <thead>\n",
       "    <tr style=\"text-align: right;\">\n",
       "      <th></th>\n",
       "      <th>sales</th>\n",
       "      <th>radio</th>\n",
       "    </tr>\n",
       "  </thead>\n",
       "  <tbody>\n",
       "    <tr>\n",
       "      <th>sales</th>\n",
       "      <td>1.000000</td>\n",
       "      <td>0.576223</td>\n",
       "    </tr>\n",
       "    <tr>\n",
       "      <th>radio</th>\n",
       "      <td>0.576223</td>\n",
       "      <td>1.000000</td>\n",
       "    </tr>\n",
       "  </tbody>\n",
       "</table>\n",
       "</div>"
      ],
      "text/plain": [
       "          sales     radio\n",
       "sales  1.000000  0.576223\n",
       "radio  0.576223  1.000000"
      ]
     },
     "execution_count": 9,
     "metadata": {},
     "output_type": "execute_result"
    }
   ],
   "source": [
    "df_advert[['sales','radio']].corr()"
   ]
  },
  {
   "cell_type": "code",
   "execution_count": 10,
   "id": "0efff0ac",
   "metadata": {},
   "outputs": [
    {
     "data": {
      "image/png": "[encoded data removed]",
      "text/plain": [
       "<Figure size 648x360 with 1 Axes>"
      ]
     },
     "metadata": {
      "needs_background": "light"
     },
     "output_type": "display_data"
    }
   ],
   "source": [
    "# relationship b/w Newspaper & sales\n",
    "plt.figure(figsize=(9,5))\n",
    "sb.scatterplot(data=df_advert,x='newspaper',y='sales')\n",
    "plt.title('Scatterplot Sales W.r.t. spending on Newspaper')\n",
    "plt.show()"
   ]
  },
  {
   "cell_type": "code",
   "execution_count": 11,
   "id": "2461db62",
   "metadata": {},
   "outputs": [
    {
     "data": {
      "text/html": [
       "<div>\n",
       "<style scoped>\n",
       "    .dataframe tbody tr th:only-of-type {\n",
       "        vertical-align: middle;\n",
       "    }\n",
       "\n",
       "    .dataframe tbody tr th {\n",
       "        vertical-align: top;\n",
       "    }\n",
       "\n",
       "    .dataframe thead th {\n",
       "        text-align: right;\n",
       "    }\n",
       "</style>\n",
       "<table border=\"1\" class=\"dataframe\">\n",
       "  <thead>\n",
       "    <tr style=\"text-align: right;\">\n",
       "      <th></th>\n",
       "      <th>sales</th>\n",
       "      <th>newspaper</th>\n",
       "    </tr>\n",
       "  </thead>\n",
       "  <tbody>\n",
       "    <tr>\n",
       "      <th>sales</th>\n",
       "      <td>1.000000</td>\n",
       "      <td>0.228299</td>\n",
       "    </tr>\n",
       "    <tr>\n",
       "      <th>newspaper</th>\n",
       "      <td>0.228299</td>\n",
       "      <td>1.000000</td>\n",
       "    </tr>\n",
       "  </tbody>\n",
       "</table>\n",
       "</div>"
      ],
      "text/plain": [
       "              sales  newspaper\n",
       "sales      1.000000   0.228299\n",
       "newspaper  0.228299   1.000000"
      ]
     },
     "execution_count": 11,
     "metadata": {},
     "output_type": "execute_result"
    }
   ],
   "source": [
    "df_advert[['sales','newspaper']].corr()"
   ]
  },
  {
   "cell_type": "markdown",
   "id": "5ecc297a",
   "metadata": {},
   "source": [
    "# Build Regression Models"
   ]
  },
  {
   "cell_type": "markdown",
   "id": "4112b540",
   "metadata": {},
   "source": [
    "## Linear Regression Model"
   ]
  },
  {
   "cell_type": "code",
   "execution_count": 12,
   "id": "f9566abc",
   "metadata": {},
   "outputs": [],
   "source": [
    "# import stats api library\n",
    "import statsmodels.formula.api as smf"
   ]
  },
  {
   "cell_type": "code",
   "execution_count": 13,
   "id": "c56c5548",
   "metadata": {},
   "outputs": [],
   "source": [
    "# ols(ordinary least squares) method identifies the best fit line of the target variable\n",
    "# the best fit line is based on the simple linear regression equation y=mx+c where x is independent\n",
    "# the formula is y ~ x according to y = mx+c \n",
    "# build a model for sales to Tv\n",
    "sm_sales_tv_model=smf.ols(formula='sales ~ TV',data=df_advert).fit()"
   ]
  },
  {
   "cell_type": "code",
   "execution_count": 14,
   "id": "435308b0",
   "metadata": {},
   "outputs": [
    {
     "name": "stdout",
     "output_type": "stream",
     "text": [
      "                            OLS Regression Results                            \n",
      "==============================================================================\n",
      "Dep. Variable:                  sales   R-squared:                       0.612\n",
      "Model:                            OLS   Adj. R-squared:                  0.610\n",
      "Method:                 Least Squares   F-statistic:                     312.1\n",
      "Date:                Tue, 25 Jan 2022   Prob (F-statistic):           1.47e-42\n",
      "Time:                        10:59:08   Log-Likelihood:                -519.05\n",
      "No. Observations:                 200   AIC:                             1042.\n",
      "Df Residuals:                     198   BIC:                             1049.\n",
      "Df Model:                           1                                         \n",
      "Covariance Type:            nonrobust                                         \n",
      "==============================================================================\n",
      "                 coef    std err          t      P>|t|      [0.025      0.975]\n",
      "------------------------------------------------------------------------------\n",
      "Intercept      7.0326      0.458     15.360      0.000       6.130       7.935\n",
      "TV             0.0475      0.003     17.668      0.000       0.042       0.053\n",
      "==============================================================================\n",
      "Omnibus:                        0.531   Durbin-Watson:                   1.935\n",
      "Prob(Omnibus):                  0.767   Jarque-Bera (JB):                0.669\n",
      "Skew:                          -0.089   Prob(JB):                        0.716\n",
      "Kurtosis:                       2.779   Cond. No.                         338.\n",
      "==============================================================================\n",
      "\n",
      "Notes:\n",
      "[1] Standard Errors assume that the covariance matrix of the errors is correctly specified.\n"
     ]
    }
   ],
   "source": [
    "print(sm_sales_tv_model.summary())"
   ]
  },
  {
   "cell_type": "code",
   "execution_count": 15,
   "id": "257ef9ab",
   "metadata": {},
   "outputs": [],
   "source": [
    "# build a model for sales to Radio\n",
    "sm_sales_radio_model=smf.ols(formula='sales ~ radio',data=df_advert).fit()"
   ]
  },
  {
   "cell_type": "code",
   "execution_count": 16,
   "id": "f48baabc",
   "metadata": {},
   "outputs": [
    {
     "name": "stdout",
     "output_type": "stream",
     "text": [
      "                            OLS Regression Results                            \n",
      "==============================================================================\n",
      "Dep. Variable:                  sales   R-squared:                       0.332\n",
      "Model:                            OLS   Adj. R-squared:                  0.329\n",
      "Method:                 Least Squares   F-statistic:                     98.42\n",
      "Date:                Tue, 25 Jan 2022   Prob (F-statistic):           4.35e-19\n",
      "Time:                        10:59:08   Log-Likelihood:                -573.34\n",
      "No. Observations:                 200   AIC:                             1151.\n",
      "Df Residuals:                     198   BIC:                             1157.\n",
      "Df Model:                           1                                         \n",
      "Covariance Type:            nonrobust                                         \n",
      "==============================================================================\n",
      "                 coef    std err          t      P>|t|      [0.025      0.975]\n",
      "------------------------------------------------------------------------------\n",
      "Intercept      9.3116      0.563     16.542      0.000       8.202      10.422\n",
      "radio          0.2025      0.020      9.921      0.000       0.162       0.243\n",
      "==============================================================================\n",
      "Omnibus:                       19.358   Durbin-Watson:                   1.946\n",
      "Prob(Omnibus):                  0.000   Jarque-Bera (JB):               21.910\n",
      "Skew:                          -0.764   Prob(JB):                     1.75e-05\n",
      "Kurtosis:                       3.544   Cond. No.                         51.4\n",
      "==============================================================================\n",
      "\n",
      "Notes:\n",
      "[1] Standard Errors assume that the covariance matrix of the errors is correctly specified.\n"
     ]
    }
   ],
   "source": [
    "print(sm_sales_radio_model.summary())"
   ]
  },
  {
   "cell_type": "code",
   "execution_count": 17,
   "id": "ccad8968",
   "metadata": {},
   "outputs": [],
   "source": [
    "# build a model for sales to Newspaper\n",
    "sm_sales_newspaper_model=smf.ols(formula='sales ~ newspaper',data=df_advert).fit()"
   ]
  },
  {
   "cell_type": "code",
   "execution_count": 18,
   "id": "1aeb80e2",
   "metadata": {},
   "outputs": [
    {
     "name": "stdout",
     "output_type": "stream",
     "text": [
      "                            OLS Regression Results                            \n",
      "==============================================================================\n",
      "Dep. Variable:                  sales   R-squared:                       0.052\n",
      "Model:                            OLS   Adj. R-squared:                  0.047\n",
      "Method:                 Least Squares   F-statistic:                     10.89\n",
      "Date:                Tue, 25 Jan 2022   Prob (F-statistic):            0.00115\n",
      "Time:                        10:59:08   Log-Likelihood:                -608.34\n",
      "No. Observations:                 200   AIC:                             1221.\n",
      "Df Residuals:                     198   BIC:                             1227.\n",
      "Df Model:                           1                                         \n",
      "Covariance Type:            nonrobust                                         \n",
      "==============================================================================\n",
      "                 coef    std err          t      P>|t|      [0.025      0.975]\n",
      "------------------------------------------------------------------------------\n",
      "Intercept     12.3514      0.621     19.876      0.000      11.126      13.577\n",
      "newspaper      0.0547      0.017      3.300      0.001       0.022       0.087\n",
      "==============================================================================\n",
      "Omnibus:                        6.231   Durbin-Watson:                   1.983\n",
      "Prob(Omnibus):                  0.044   Jarque-Bera (JB):                5.483\n",
      "Skew:                           0.330   Prob(JB):                       0.0645\n",
      "Kurtosis:                       2.527   Cond. No.                         64.7\n",
      "==============================================================================\n",
      "\n",
      "Notes:\n",
      "[1] Standard Errors assume that the covariance matrix of the errors is correctly specified.\n"
     ]
    }
   ],
   "source": [
    "print(sm_sales_newspaper_model.summary())"
   ]
  },
  {
   "cell_type": "code",
   "execution_count": 19,
   "id": "d03d7ccb",
   "metadata": {},
   "outputs": [],
   "source": [
    "# we found out that spending on Tv advertisements generates more sales.\n",
    "# Hence, sales = 0.0475* TV + 7.0326 is the best fit line / best fit Model"
   ]
  },
  {
   "cell_type": "markdown",
   "id": "3c8f44b3",
   "metadata": {},
   "source": [
    "## Multiple Regression Model"
   ]
  },
  {
   "cell_type": "code",
   "execution_count": 20,
   "id": "4effa308",
   "metadata": {},
   "outputs": [],
   "source": [
    "# build a model for sales in combination with TV & Radio\n",
    "sm_sales_tv_rd_model=smf.ols(formula='sales ~ TV + radio',data=df_advert).fit()"
   ]
  },
  {
   "cell_type": "code",
   "execution_count": 21,
   "id": "7f889b48",
   "metadata": {},
   "outputs": [
    {
     "name": "stdout",
     "output_type": "stream",
     "text": [
      "                            OLS Regression Results                            \n",
      "==============================================================================\n",
      "Dep. Variable:                  sales   R-squared:                       0.897\n",
      "Model:                            OLS   Adj. R-squared:                  0.896\n",
      "Method:                 Least Squares   F-statistic:                     859.6\n",
      "Date:                Tue, 25 Jan 2022   Prob (F-statistic):           4.83e-98\n",
      "Time:                        10:59:09   Log-Likelihood:                -386.20\n",
      "No. Observations:                 200   AIC:                             778.4\n",
      "Df Residuals:                     197   BIC:                             788.3\n",
      "Df Model:                           2                                         \n",
      "Covariance Type:            nonrobust                                         \n",
      "==============================================================================\n",
      "                 coef    std err          t      P>|t|      [0.025      0.975]\n",
      "------------------------------------------------------------------------------\n",
      "Intercept      2.9211      0.294      9.919      0.000       2.340       3.502\n",
      "TV             0.0458      0.001     32.909      0.000       0.043       0.048\n",
      "radio          0.1880      0.008     23.382      0.000       0.172       0.204\n",
      "==============================================================================\n",
      "Omnibus:                       60.022   Durbin-Watson:                   2.081\n",
      "Prob(Omnibus):                  0.000   Jarque-Bera (JB):              148.679\n",
      "Skew:                          -1.323   Prob(JB):                     5.19e-33\n",
      "Kurtosis:                       6.292   Cond. No.                         425.\n",
      "==============================================================================\n",
      "\n",
      "Notes:\n",
      "[1] Standard Errors assume that the covariance matrix of the errors is correctly specified.\n"
     ]
    }
   ],
   "source": [
    "print(sm_sales_tv_rd_model.summary())"
   ]
  },
  {
   "cell_type": "code",
   "execution_count": 22,
   "id": "dca36321",
   "metadata": {},
   "outputs": [],
   "source": [
    "# build a model for sales in combination with TV, Radio, Newspaper\n",
    "sm_sales_tv_rd_np_model=smf.ols(formula='sales ~ TV + radio + newspaper',data=df_advert).fit()"
   ]
  },
  {
   "cell_type": "code",
   "execution_count": 23,
   "id": "4bd54214",
   "metadata": {},
   "outputs": [
    {
     "name": "stdout",
     "output_type": "stream",
     "text": [
      "                            OLS Regression Results                            \n",
      "==============================================================================\n",
      "Dep. Variable:                  sales   R-squared:                       0.897\n",
      "Model:                            OLS   Adj. R-squared:                  0.896\n",
      "Method:                 Least Squares   F-statistic:                     570.3\n",
      "Date:                Tue, 25 Jan 2022   Prob (F-statistic):           1.58e-96\n",
      "Time:                        10:59:09   Log-Likelihood:                -386.18\n",
      "No. Observations:                 200   AIC:                             780.4\n",
      "Df Residuals:                     196   BIC:                             793.6\n",
      "Df Model:                           3                                         \n",
      "Covariance Type:            nonrobust                                         \n",
      "==============================================================================\n",
      "                 coef    std err          t      P>|t|      [0.025      0.975]\n",
      "------------------------------------------------------------------------------\n",
      "Intercept      2.9389      0.312      9.422      0.000       2.324       3.554\n",
      "TV             0.0458      0.001     32.809      0.000       0.043       0.049\n",
      "radio          0.1885      0.009     21.893      0.000       0.172       0.206\n",
      "newspaper     -0.0010      0.006     -0.177      0.860      -0.013       0.011\n",
      "==============================================================================\n",
      "Omnibus:                       60.414   Durbin-Watson:                   2.084\n",
      "Prob(Omnibus):                  0.000   Jarque-Bera (JB):              151.241\n",
      "Skew:                          -1.327   Prob(JB):                     1.44e-33\n",
      "Kurtosis:                       6.332   Cond. No.                         454.\n",
      "==============================================================================\n",
      "\n",
      "Notes:\n",
      "[1] Standard Errors assume that the covariance matrix of the errors is correctly specified.\n"
     ]
    }
   ],
   "source": [
    "print(sm_sales_tv_rd_np_model.summary())"
   ]
  },
  {
   "cell_type": "code",
   "execution_count": 24,
   "id": "2836608d",
   "metadata": {},
   "outputs": [],
   "source": [
    "# sales = 2.9389 + 0.0458*TV + 0.1885*radio - 0.0010*newspaper\n",
    "# since the newspaper advertisement spending generates loss this is not the best fit model\n",
    "# Hence sales = 2.9389 + 0.0458*TV + 0.1885*radio is the best fit model"
   ]
  },
  {
   "cell_type": "code",
   "execution_count": 25,
   "id": "a1a74ae8",
   "metadata": {},
   "outputs": [],
   "source": [
    "# predict the model i.e. predict the sales by the best fit model\n",
    "y_pred=sm_sales_tv_rd_model.predict()"
   ]
  },
  {
   "cell_type": "code",
   "execution_count": 26,
   "id": "ad3854f3",
   "metadata": {},
   "outputs": [],
   "source": [
    "# check the accuracy of the predicted model/ check for errors\n",
    "# the less the value of RMSE better the model is\n",
    "from sklearn.metrics import mean_squared_error as mse"
   ]
  },
  {
   "cell_type": "code",
   "execution_count": 27,
   "id": "bf26406f",
   "metadata": {},
   "outputs": [],
   "source": [
    "MSE=mse(y_pred,df_advert['sales'])"
   ]
  },
  {
   "cell_type": "code",
   "execution_count": 28,
   "id": "37992af8",
   "metadata": {},
   "outputs": [
    {
     "data": {
      "text/plain": [
       "2.784569900338092"
      ]
     },
     "execution_count": 28,
     "metadata": {},
     "output_type": "execute_result"
    }
   ],
   "source": [
    "MSE"
   ]
  },
  {
   "cell_type": "code",
   "execution_count": 29,
   "id": "fc81e2c2",
   "metadata": {},
   "outputs": [],
   "source": [
    "Root_Mean_squared_error=mse(y_pred,df_advert['sales'],squared=False)"
   ]
  },
  {
   "cell_type": "code",
   "execution_count": 30,
   "id": "b5f7f0ef",
   "metadata": {},
   "outputs": [
    {
     "data": {
      "text/plain": [
       "1.668703059366193"
      ]
     },
     "execution_count": 30,
     "metadata": {},
     "output_type": "execute_result"
    }
   ],
   "source": [
    "Root_Mean_squared_error"
   ]
  },
  {
   "cell_type": "code",
   "execution_count": 31,
   "id": "291144b1",
   "metadata": {},
   "outputs": [],
   "source": [
    "# mean absolute error is another measure of checking errors\n",
    "from sklearn.metrics import mean_absolute_error as mae"
   ]
  },
  {
   "cell_type": "code",
   "execution_count": 32,
   "id": "3144925c",
   "metadata": {},
   "outputs": [],
   "source": [
    "abs_error=mae(y_pred,df_advert['sales'])"
   ]
  },
  {
   "cell_type": "code",
   "execution_count": 33,
   "id": "541abceb",
   "metadata": {},
   "outputs": [
    {
     "data": {
      "text/plain": [
       "1.2537471644234015"
      ]
     },
     "execution_count": 33,
     "metadata": {},
     "output_type": "execute_result"
    }
   ],
   "source": [
    "abs_error"
   ]
  },
  {
   "cell_type": "markdown",
   "id": "a102c83b",
   "metadata": {},
   "source": [
    "### Split the data into Training & testing sets"
   ]
  },
  {
   "cell_type": "code",
   "execution_count": 34,
   "id": "d8cb1667",
   "metadata": {},
   "outputs": [],
   "source": [
    "from sklearn.model_selection import train_test_split"
   ]
  },
  {
   "cell_type": "code",
   "execution_count": 35,
   "id": "b53fd9b9",
   "metadata": {},
   "outputs": [],
   "source": [
    "X=df_advert[['TV','radio']]\n",
    "y=df_advert['sales']"
   ]
  },
  {
   "cell_type": "code",
   "execution_count": 36,
   "id": "a6464d5f",
   "metadata": {},
   "outputs": [],
   "source": [
    "xtrain,xtest,ytrain,ytest=train_test_split(X,y,train_size=0.7,random_state=12345)"
   ]
  },
  {
   "cell_type": "code",
   "execution_count": 37,
   "id": "b52cd156",
   "metadata": {},
   "outputs": [
    {
     "name": "stdout",
     "output_type": "stream",
     "text": [
      "(200, 4)\n"
     ]
    }
   ],
   "source": [
    "# total records\n",
    "print(df_advert.shape)"
   ]
  },
  {
   "cell_type": "code",
   "execution_count": 38,
   "id": "4b9df3a5",
   "metadata": {},
   "outputs": [
    {
     "name": "stdout",
     "output_type": "stream",
     "text": [
      "(140, 2)\n"
     ]
    }
   ],
   "source": [
    "# Training records\n",
    "print(xtrain.shape)"
   ]
  },
  {
   "cell_type": "code",
   "execution_count": 39,
   "id": "9c27af66",
   "metadata": {},
   "outputs": [
    {
     "name": "stdout",
     "output_type": "stream",
     "text": [
      "(60, 2)\n"
     ]
    }
   ],
   "source": [
    "# Testing records\n",
    "print(xtest.shape)"
   ]
  },
  {
   "cell_type": "code",
   "execution_count": 40,
   "id": "fc89dd3f",
   "metadata": {},
   "outputs": [],
   "source": [
    "# standard scaling of the Features / Z-score / Standardization\n",
    "# Z score transforms the mean into 0 & standard deviation to 1\n",
    "from sklearn.preprocessing import StandardScaler"
   ]
  },
  {
   "cell_type": "code",
   "execution_count": 41,
   "id": "18dda1b3",
   "metadata": {},
   "outputs": [],
   "source": [
    "# instanciate an object of standardscaler class\n",
    "scaler=StandardScaler()"
   ]
  },
  {
   "cell_type": "code",
   "execution_count": 42,
   "id": "bbf3d6cd",
   "metadata": {},
   "outputs": [],
   "source": [
    "# scale the training dataset\n",
    "xtrain_scaled=scaler.fit_transform(xtrain)"
   ]
  },
  {
   "cell_type": "code",
   "execution_count": 43,
   "id": "266819cb",
   "metadata": {},
   "outputs": [],
   "source": [
    "# scale the testing dataset\n",
    "xtest_scaled=scaler.transform(xtest)"
   ]
  },
  {
   "cell_type": "markdown",
   "id": "2514c5fd",
   "metadata": {},
   "source": [
    "## Build a Linear Regression Model"
   ]
  },
  {
   "cell_type": "code",
   "execution_count": 44,
   "id": "0be4754c",
   "metadata": {},
   "outputs": [],
   "source": [
    "from sklearn.linear_model import LinearRegression"
   ]
  },
  {
   "cell_type": "code",
   "execution_count": 51,
   "id": "9718bf14",
   "metadata": {},
   "outputs": [],
   "source": [
    "# instantiate an object of LinearRegression class\n",
    "linReg=LinearRegression()"
   ]
  },
  {
   "cell_type": "code",
   "execution_count": 52,
   "id": "9f7b99bb",
   "metadata": {},
   "outputs": [
    {
     "data": {
      "text/plain": [
       "LinearRegression()"
      ]
     },
     "execution_count": 52,
     "metadata": {},
     "output_type": "execute_result"
    }
   ],
   "source": [
    "# Train the model with the scaled features\n",
    "linReg.fit(xtrain_scaled,ytrain)"
   ]
  },
  {
   "cell_type": "code",
   "execution_count": 53,
   "id": "1d3e6380",
   "metadata": {},
   "outputs": [
    {
     "data": {
      "text/plain": [
       "array([3.63494395, 2.69965172])"
      ]
     },
     "execution_count": 53,
     "metadata": {},
     "output_type": "execute_result"
    }
   ],
   "source": [
    "# see the coefficient / slope of the prediction line\n",
    "linReg.coef_"
   ]
  },
  {
   "cell_type": "code",
   "execution_count": 54,
   "id": "2b32267d",
   "metadata": {},
   "outputs": [
    {
     "data": {
      "text/plain": [
       "13.872857142857145"
      ]
     },
     "execution_count": 54,
     "metadata": {},
     "output_type": "execute_result"
    }
   ],
   "source": [
    "# see the intercept of the prediction line with Y axis\n",
    "linReg.intercept_"
   ]
  },
  {
   "cell_type": "code",
   "execution_count": 55,
   "id": "cee5028c",
   "metadata": {},
   "outputs": [],
   "source": [
    "# predict the training dataset with the scaled features\n",
    "y_train_pred=linReg.predict(xtrain_scaled)"
   ]
  },
  {
   "cell_type": "code",
   "execution_count": 56,
   "id": "611dfc90",
   "metadata": {},
   "outputs": [
    {
     "data": {
      "text/plain": [
       "array([ 8.39392945,  9.50532415, 12.10252974, 16.79833102, 11.64123793])"
      ]
     },
     "execution_count": 56,
     "metadata": {},
     "output_type": "execute_result"
    }
   ],
   "source": [
    "y_train_pred[0:5]"
   ]
  },
  {
   "cell_type": "code",
   "execution_count": 58,
   "id": "31596c78",
   "metadata": {},
   "outputs": [],
   "source": [
    "# predict the testing dataset with the scaled features\n",
    "y_test_pred=linReg.predict(xtest_scaled)"
   ]
  },
  {
   "cell_type": "code",
   "execution_count": 59,
   "id": "18ab6a01",
   "metadata": {},
   "outputs": [
    {
     "data": {
      "text/plain": [
       "array([20.46206382, 10.13636589, 14.10095105,  9.68634163,  8.84089385])"
      ]
     },
     "execution_count": 59,
     "metadata": {},
     "output_type": "execute_result"
    }
   ],
   "source": [
    "y_test_pred[0:5]"
   ]
  },
  {
   "cell_type": "markdown",
   "id": "e4d7c3b6",
   "metadata": {},
   "source": [
    "## Accuracy check"
   ]
  },
  {
   "cell_type": "code",
   "execution_count": 60,
   "id": "85a45916",
   "metadata": {},
   "outputs": [],
   "source": [
    "from sklearn.metrics import mean_squared_error as mse"
   ]
  },
  {
   "cell_type": "code",
   "execution_count": 62,
   "id": "d144db4c",
   "metadata": {},
   "outputs": [],
   "source": [
    "# check RMSE for the training set\n",
    "RMSE_train=mse(y_train_pred,ytrain,squared=False)"
   ]
  },
  {
   "cell_type": "code",
   "execution_count": 63,
   "id": "74182c9a",
   "metadata": {},
   "outputs": [
    {
     "data": {
      "text/plain": [
       "1.5062905432887084"
      ]
     },
     "execution_count": 63,
     "metadata": {},
     "output_type": "execute_result"
    }
   ],
   "source": [
    "RMSE_train"
   ]
  },
  {
   "cell_type": "code",
   "execution_count": 64,
   "id": "88c0c5b7",
   "metadata": {},
   "outputs": [],
   "source": [
    "# check RMSE for the testing set\n",
    "RMSE_test=mse(y_test_pred,ytest,squared=False)"
   ]
  },
  {
   "cell_type": "code",
   "execution_count": 65,
   "id": "3aa764b9",
   "metadata": {},
   "outputs": [
    {
     "data": {
      "text/plain": [
       "2.029402913983898"
      ]
     },
     "execution_count": 65,
     "metadata": {},
     "output_type": "execute_result"
    }
   ],
   "source": [
    "RMSE_test"
   ]
  },
  {
   "cell_type": "code",
   "execution_count": 66,
   "id": "90e9ad40",
   "metadata": {},
   "outputs": [],
   "source": [
    "# The model is performing relatively well in both the Training as well as the Testing set"
   ]
  },
  {
   "cell_type": "code",
   "execution_count": 67,
   "id": "95563513",
   "metadata": {},
   "outputs": [],
   "source": [
    "from sklearn.metrics import r2_score"
   ]
  },
  {
   "cell_type": "code",
   "execution_count": 69,
   "id": "e9be6d6d",
   "metadata": {},
   "outputs": [
    {
     "data": {
      "text/plain": [
       "0.8885880771620198"
      ]
     },
     "execution_count": 69,
     "metadata": {},
     "output_type": "execute_result"
    }
   ],
   "source": [
    "# check the R square value of the training dataset\n",
    "Rsquared_train=r2_score(y_train_pred,ytrain)\n",
    "Rsquared_train"
   ]
  },
  {
   "cell_type": "code",
   "execution_count": 70,
   "id": "7f448f7a",
   "metadata": {},
   "outputs": [
    {
     "data": {
      "text/plain": [
       "0.8483159881864237"
      ]
     },
     "execution_count": 70,
     "metadata": {},
     "output_type": "execute_result"
    }
   ],
   "source": [
    "# check the R square value of the testing dataset\n",
    "Rsquared_test=r2_score(y_test_pred,ytest)\n",
    "Rsquared_test"
   ]
  },
  {
   "cell_type": "code",
   "execution_count": null,
   "id": "38d4fc65",
   "metadata": {},
   "outputs": [],
   "source": []
  }
 ],
 "metadata": {
  "kernelspec": {
   "display_name": "Python 3 (ipykernel)",
   "language": "python",
   "name": "python3"
  },
  "language_info": {
   "codemirror_mode": {
    "name": "ipython",
    "version": 3
   },
   "file_extension": ".py",
   "mimetype": "text/x-python",
   "name": "python",
   "nbconvert_exporter": "python",
   "pygments_lexer": "ipython3",
   "version": "3.12.3"
  }
 },
 "nbformat": 4,
 "nbformat_minor": 5
}

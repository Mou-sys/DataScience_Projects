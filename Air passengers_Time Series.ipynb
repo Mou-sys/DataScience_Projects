{
 "cells": [
  {
   "cell_type": "code",
   "execution_count": 1,
   "id": "cb26c177",
   "metadata": {},
   "outputs": [],
   "source": [
    "import numpy as np\n",
    "import pandas as pd\n",
    "import warnings as wr\n",
    "wr.filterwarnings('ignore')\n",
    "import matplotlib.pyplot as plt\n",
    "%matplotlib inline\n",
    "import seaborn as sb"
   ]
  },
  {
   "cell_type": "code",
   "execution_count": 2,
   "id": "a22020e9",
   "metadata": {},
   "outputs": [],
   "source": [
    "df_airp=pd.read_csv('AirPassengers.csv')"
   ]
  },
  {
   "cell_type": "code",
   "execution_count": 3,
   "id": "4d426f74",
   "metadata": {},
   "outputs": [
    {
     "data": {
      "text/html": [
       "<div>\n",
       "<style scoped>\n",
       "    .dataframe tbody tr th:only-of-type {\n",
       "        vertical-align: middle;\n",
       "    }\n",
       "\n",
       "    .dataframe tbody tr th {\n",
       "        vertical-align: top;\n",
       "    }\n",
       "\n",
       "    .dataframe thead th {\n",
       "        text-align: right;\n",
       "    }\n",
       "</style>\n",
       "<table border=\"1\" class=\"dataframe\">\n",
       "  <thead>\n",
       "    <tr style=\"text-align: right;\">\n",
       "      <th></th>\n",
       "      <th>Month</th>\n",
       "      <th>#Passengers</th>\n",
       "    </tr>\n",
       "  </thead>\n",
       "  <tbody>\n",
       "    <tr>\n",
       "      <th>0</th>\n",
       "      <td>1949-01</td>\n",
       "      <td>112</td>\n",
       "    </tr>\n",
       "    <tr>\n",
       "      <th>1</th>\n",
       "      <td>1949-02</td>\n",
       "      <td>118</td>\n",
       "    </tr>\n",
       "    <tr>\n",
       "      <th>2</th>\n",
       "      <td>1949-03</td>\n",
       "      <td>132</td>\n",
       "    </tr>\n",
       "    <tr>\n",
       "      <th>3</th>\n",
       "      <td>1949-04</td>\n",
       "      <td>129</td>\n",
       "    </tr>\n",
       "    <tr>\n",
       "      <th>4</th>\n",
       "      <td>1949-05</td>\n",
       "      <td>121</td>\n",
       "    </tr>\n",
       "  </tbody>\n",
       "</table>\n",
       "</div>"
      ],
      "text/plain": [
       "     Month  #Passengers\n",
       "0  1949-01          112\n",
       "1  1949-02          118\n",
       "2  1949-03          132\n",
       "3  1949-04          129\n",
       "4  1949-05          121"
      ]
     },
     "execution_count": 3,
     "metadata": {},
     "output_type": "execute_result"
    }
   ],
   "source": [
    "df_airp.head()"
   ]
  },
  {
   "cell_type": "code",
   "execution_count": 19,
   "id": "9f12b03e",
   "metadata": {},
   "outputs": [
    {
     "data": {
      "text/plain": [
       "#Passengers    0\n",
       "dtype: int64"
      ]
     },
     "execution_count": 19,
     "metadata": {},
     "output_type": "execute_result"
    }
   ],
   "source": [
    "df_airp.isna().sum()"
   ]
  },
  {
   "cell_type": "code",
   "execution_count": 4,
   "id": "b53f0698",
   "metadata": {},
   "outputs": [],
   "source": [
    "# convert the month as the end date of each month\n",
    "df_airp['Month']=pd.to_datetime(df_airp['Month'],format='%Y-%m')+pd.tseries.offsets.MonthEnd(1)"
   ]
  },
  {
   "cell_type": "code",
   "execution_count": 5,
   "id": "88dd0e5c",
   "metadata": {},
   "outputs": [
    {
     "data": {
      "text/html": [
       "<div>\n",
       "<style scoped>\n",
       "    .dataframe tbody tr th:only-of-type {\n",
       "        vertical-align: middle;\n",
       "    }\n",
       "\n",
       "    .dataframe tbody tr th {\n",
       "        vertical-align: top;\n",
       "    }\n",
       "\n",
       "    .dataframe thead th {\n",
       "        text-align: right;\n",
       "    }\n",
       "</style>\n",
       "<table border=\"1\" class=\"dataframe\">\n",
       "  <thead>\n",
       "    <tr style=\"text-align: right;\">\n",
       "      <th></th>\n",
       "      <th>Month</th>\n",
       "      <th>#Passengers</th>\n",
       "    </tr>\n",
       "  </thead>\n",
       "  <tbody>\n",
       "    <tr>\n",
       "      <th>0</th>\n",
       "      <td>1949-01-31</td>\n",
       "      <td>112</td>\n",
       "    </tr>\n",
       "    <tr>\n",
       "      <th>1</th>\n",
       "      <td>1949-02-28</td>\n",
       "      <td>118</td>\n",
       "    </tr>\n",
       "    <tr>\n",
       "      <th>2</th>\n",
       "      <td>1949-03-31</td>\n",
       "      <td>132</td>\n",
       "    </tr>\n",
       "    <tr>\n",
       "      <th>3</th>\n",
       "      <td>1949-04-30</td>\n",
       "      <td>129</td>\n",
       "    </tr>\n",
       "    <tr>\n",
       "      <th>4</th>\n",
       "      <td>1949-05-31</td>\n",
       "      <td>121</td>\n",
       "    </tr>\n",
       "  </tbody>\n",
       "</table>\n",
       "</div>"
      ],
      "text/plain": [
       "       Month  #Passengers\n",
       "0 1949-01-31          112\n",
       "1 1949-02-28          118\n",
       "2 1949-03-31          132\n",
       "3 1949-04-30          129\n",
       "4 1949-05-31          121"
      ]
     },
     "execution_count": 5,
     "metadata": {},
     "output_type": "execute_result"
    }
   ],
   "source": [
    "df_airp.head()"
   ]
  },
  {
   "cell_type": "code",
   "execution_count": 6,
   "id": "25a34923",
   "metadata": {},
   "outputs": [],
   "source": [
    "# make the dates as the index\n",
    "df_airp.set_index(['Month'],drop=True,inplace=True)"
   ]
  },
  {
   "cell_type": "code",
   "execution_count": 7,
   "id": "92fafbac",
   "metadata": {},
   "outputs": [
    {
     "data": {
      "text/html": [
       "<div>\n",
       "<style scoped>\n",
       "    .dataframe tbody tr th:only-of-type {\n",
       "        vertical-align: middle;\n",
       "    }\n",
       "\n",
       "    .dataframe tbody tr th {\n",
       "        vertical-align: top;\n",
       "    }\n",
       "\n",
       "    .dataframe thead th {\n",
       "        text-align: right;\n",
       "    }\n",
       "</style>\n",
       "<table border=\"1\" class=\"dataframe\">\n",
       "  <thead>\n",
       "    <tr style=\"text-align: right;\">\n",
       "      <th></th>\n",
       "      <th>#Passengers</th>\n",
       "    </tr>\n",
       "    <tr>\n",
       "      <th>Month</th>\n",
       "      <th></th>\n",
       "    </tr>\n",
       "  </thead>\n",
       "  <tbody>\n",
       "    <tr>\n",
       "      <th>1949-01-31</th>\n",
       "      <td>112</td>\n",
       "    </tr>\n",
       "    <tr>\n",
       "      <th>1949-02-28</th>\n",
       "      <td>118</td>\n",
       "    </tr>\n",
       "    <tr>\n",
       "      <th>1949-03-31</th>\n",
       "      <td>132</td>\n",
       "    </tr>\n",
       "    <tr>\n",
       "      <th>1949-04-30</th>\n",
       "      <td>129</td>\n",
       "    </tr>\n",
       "    <tr>\n",
       "      <th>1949-05-31</th>\n",
       "      <td>121</td>\n",
       "    </tr>\n",
       "  </tbody>\n",
       "</table>\n",
       "</div>"
      ],
      "text/plain": [
       "            #Passengers\n",
       "Month                  \n",
       "1949-01-31          112\n",
       "1949-02-28          118\n",
       "1949-03-31          132\n",
       "1949-04-30          129\n",
       "1949-05-31          121"
      ]
     },
     "execution_count": 7,
     "metadata": {},
     "output_type": "execute_result"
    }
   ],
   "source": [
    "df_airp.head()"
   ]
  },
  {
   "cell_type": "code",
   "execution_count": 8,
   "id": "eef0c688",
   "metadata": {},
   "outputs": [
    {
     "data": {
      "image/png": "[encoded data removed]",
      "text/plain": [
       "<Figure size 576x360 with 1 Axes>"
      ]
     },
     "metadata": {
      "needs_background": "light"
     },
     "output_type": "display_data"
    }
   ],
   "source": [
    "# plot the time series\n",
    "plt.figure(figsize=(8,5))\n",
    "sb.lineplot(data=df_airp,x=df_airp.index,y='#Passengers')\n",
    "plt.grid(True)\n",
    "plt.title('Number of Air Passengers by Time')\n",
    "plt.show()"
   ]
  },
  {
   "cell_type": "code",
   "execution_count": 9,
   "id": "bac88176",
   "metadata": {},
   "outputs": [],
   "source": [
    "# Time series = Trend (up & down) + Seasonal (Repeating pattern) + Residual effect\n",
    "# in the form ----> log(Trend*Seasonal*Residual) = log(Trend)+log(Seasonal)+log(Residual) "
   ]
  },
  {
   "cell_type": "code",
   "execution_count": 10,
   "id": "051d3911",
   "metadata": {},
   "outputs": [],
   "source": [
    "# decompose the time series to get the trend, seasonal & residual report\n",
    "from statsmodels.tsa.seasonal import seasonal_decompose"
   ]
  },
  {
   "cell_type": "code",
   "execution_count": 11,
   "id": "8bd9bca3",
   "metadata": {},
   "outputs": [],
   "source": [
    "# extracted seasonal decomposition of the time series\n",
    "decomp_airp=seasonal_decompose(df_airp['#Passengers'])"
   ]
  },
  {
   "cell_type": "code",
   "execution_count": 12,
   "id": "d7c9fce3",
   "metadata": {},
   "outputs": [
    {
     "data": {
      "image/png": "[encoded data removed]",
      "text/plain": [
       "<Figure size 576x360 with 1 Axes>"
      ]
     },
     "metadata": {
      "needs_background": "light"
     },
     "output_type": "display_data"
    }
   ],
   "source": [
    "# visualize each component of the time series\n",
    "# Trend\n",
    "plt.figure(figsize=(8,5))\n",
    "plt.plot(decomp_airp.trend)\n",
    "plt.grid(True)\n",
    "plt.title('Air Passengers Trend')\n",
    "plt.show()"
   ]
  },
  {
   "cell_type": "code",
   "execution_count": 13,
   "id": "05e0970e",
   "metadata": {},
   "outputs": [
    {
     "data": {
      "image/png": "[encoded data removed]",
      "text/plain": [
       "<Figure size 576x216 with 1 Axes>"
      ]
     },
     "metadata": {
      "needs_background": "light"
     },
     "output_type": "display_data"
    }
   ],
   "source": [
    "# visualize each component of the time series\n",
    "# Seasonal\n",
    "plt.figure(figsize=(8,3))\n",
    "plt.plot(decomp_airp.seasonal)\n",
    "plt.grid(True)\n",
    "plt.title('Air Passengers Seasonal effects')\n",
    "plt.show()"
   ]
  },
  {
   "cell_type": "code",
   "execution_count": 14,
   "id": "98e59419",
   "metadata": {},
   "outputs": [
    {
     "data": {
      "image/png": "[encoded data removed]",
      "text/plain": [
       "<Figure size 720x360 with 1 Axes>"
      ]
     },
     "metadata": {
      "needs_background": "light"
     },
     "output_type": "display_data"
    }
   ],
   "source": [
    "# visualize each component of the time series\n",
    "# Residual\n",
    "plt.figure(figsize=(10,5))\n",
    "plt.plot(decomp_airp.resid)\n",
    "plt.grid(True)\n",
    "plt.title('Air Passengers Residual effects')\n",
    "plt.show()"
   ]
  },
  {
   "cell_type": "code",
   "execution_count": 15,
   "id": "2b695414",
   "metadata": {},
   "outputs": [],
   "source": [
    "# Stationarity check\n",
    "ts_rolling_mean=df_airp['#Passengers'].rolling(12).mean()"
   ]
  },
  {
   "cell_type": "code",
   "execution_count": 16,
   "id": "3d54b2bc",
   "metadata": {},
   "outputs": [
    {
     "data": {
      "text/plain": [
       "Month\n",
       "1949-01-31           NaN\n",
       "1949-02-28           NaN\n",
       "1949-03-31           NaN\n",
       "1949-04-30           NaN\n",
       "1949-05-31           NaN\n",
       "1949-06-30           NaN\n",
       "1949-07-31           NaN\n",
       "1949-08-31           NaN\n",
       "1949-09-30           NaN\n",
       "1949-10-31           NaN\n",
       "1949-11-30           NaN\n",
       "1949-12-31    126.666667\n",
       "1950-01-31    126.916667\n",
       "1950-02-28    127.583333\n",
       "1950-03-31    128.333333\n",
       "1950-04-30    128.833333\n",
       "1950-05-31    129.166667\n",
       "1950-06-30    130.333333\n",
       "1950-07-31    132.166667\n",
       "1950-08-31    134.000000\n",
       "Name: #Passengers, dtype: float64"
      ]
     },
     "execution_count": 16,
     "metadata": {},
     "output_type": "execute_result"
    }
   ],
   "source": [
    "ts_rolling_mean[0:20]"
   ]
  },
  {
   "cell_type": "code",
   "execution_count": 17,
   "id": "8a27c55e",
   "metadata": {},
   "outputs": [],
   "source": [
    "ts_rolling_std=df_airp['#Passengers'].rolling(12).std()"
   ]
  },
  {
   "cell_type": "code",
   "execution_count": 18,
   "id": "0c485049",
   "metadata": {},
   "outputs": [
    {
     "data": {
      "text/plain": [
       "Month\n",
       "1949-01-31          NaN\n",
       "1949-02-28          NaN\n",
       "1949-03-31          NaN\n",
       "1949-04-30          NaN\n",
       "1949-05-31          NaN\n",
       "1949-06-30          NaN\n",
       "1949-07-31          NaN\n",
       "1949-08-31          NaN\n",
       "1949-09-30          NaN\n",
       "1949-10-31          NaN\n",
       "1949-11-30          NaN\n",
       "1949-12-31    13.720147\n",
       "1950-01-31    13.453342\n",
       "1950-02-28    13.166475\n",
       "1950-03-31    13.686977\n",
       "1950-04-30    13.822467\n",
       "1950-05-31    13.663710\n",
       "1950-06-30    14.760718\n",
       "1950-07-31    18.135016\n",
       "1950-08-31    20.797727\n",
       "Name: #Passengers, dtype: float64"
      ]
     },
     "execution_count": 18,
     "metadata": {},
     "output_type": "execute_result"
    }
   ],
   "source": [
    "ts_rolling_std[0:20]"
   ]
  },
  {
   "cell_type": "code",
   "execution_count": 24,
   "id": "42a1280f",
   "metadata": {},
   "outputs": [
    {
     "data": {
      "image/png": "[encoded data removed]",
      "text/plain": [
       "<Figure size 576x360 with 1 Axes>"
      ]
     },
     "metadata": {
      "needs_background": "light"
     },
     "output_type": "display_data"
    }
   ],
   "source": [
    "plt.figure(figsize=(8,5))\n",
    "plt.plot(df_airp['#Passengers'],color='blue',label='Original TS')\n",
    "plt.plot(ts_rolling_mean,color='red',label='Rolling Mean(12)')\n",
    "plt.plot(ts_rolling_std,color='green',label='Rolling SD(12)')\n",
    "plt.xlabel('Month')\n",
    "plt.ylabel('Air Passengers')\n",
    "plt.title('Air Passengers vs Rolling Mean vs Rolling SD')\n",
    "plt.legend(loc='best')\n",
    "plt.grid(True)\n",
    "plt.show()"
   ]
  },
  {
   "cell_type": "code",
   "execution_count": 25,
   "id": "1c21fa10",
   "metadata": {},
   "outputs": [],
   "source": [
    "# Dicky fuller hypothesis test\n",
    "# H0: Time series is not stationary\n",
    "# H1: Time series is stationary\n",
    "\n",
    "from statsmodels.tsa.stattools import adfuller"
   ]
  },
  {
   "cell_type": "code",
   "execution_count": 26,
   "id": "9b6733ce",
   "metadata": {},
   "outputs": [],
   "source": [
    "adf_test=adfuller(df_airp['#Passengers'])"
   ]
  },
  {
   "cell_type": "code",
   "execution_count": 27,
   "id": "e27bed4f",
   "metadata": {},
   "outputs": [
    {
     "data": {
      "text/plain": [
       "(0.8153688792060423,\n",
       " 0.9918802434376409,\n",
       " 13,\n",
       " 130,\n",
       " {'1%': -3.4816817173418295,\n",
       "  '5%': -2.8840418343195267,\n",
       "  '10%': -2.578770059171598},\n",
       " 996.6929308390189)"
      ]
     },
     "execution_count": 27,
     "metadata": {},
     "output_type": "execute_result"
    }
   ],
   "source": [
    "adf_test"
   ]
  },
  {
   "cell_type": "code",
   "execution_count": 46,
   "id": "1b4bdf32",
   "metadata": {},
   "outputs": [
    {
     "data": {
      "text/plain": [
       "0.9918802434376409"
      ]
     },
     "execution_count": 46,
     "metadata": {},
     "output_type": "execute_result"
    }
   ],
   "source": [
    "# p-value\n",
    "adf_test[1]"
   ]
  },
  {
   "cell_type": "code",
   "execution_count": 29,
   "id": "5a1bb897",
   "metadata": {},
   "outputs": [],
   "source": [
    "# Failed to reject null hyp"
   ]
  },
  {
   "cell_type": "code",
   "execution_count": 41,
   "id": "78522cf8",
   "metadata": {},
   "outputs": [],
   "source": [
    "# first order difference to make stationary\n",
    "ts_diff1=df_airp['#Passengers'].diff()"
   ]
  },
  {
   "cell_type": "code",
   "execution_count": 42,
   "id": "f9959e84",
   "metadata": {},
   "outputs": [
    {
     "data": {
      "text/plain": [
       "Month\n",
       "1949-01-31     NaN\n",
       "1949-02-28     6.0\n",
       "1949-03-31    14.0\n",
       "1949-04-30    -3.0\n",
       "1949-05-31    -8.0\n",
       "              ... \n",
       "1960-08-31   -16.0\n",
       "1960-09-30   -98.0\n",
       "1960-10-31   -47.0\n",
       "1960-11-30   -71.0\n",
       "1960-12-31    42.0\n",
       "Name: #Passengers, Length: 144, dtype: float64"
      ]
     },
     "execution_count": 42,
     "metadata": {},
     "output_type": "execute_result"
    }
   ],
   "source": [
    "ts_diff1"
   ]
  },
  {
   "cell_type": "code",
   "execution_count": 36,
   "id": "dece900b",
   "metadata": {},
   "outputs": [],
   "source": [
    "adf_test1=adfuller(ts_diff1.dropna())"
   ]
  },
  {
   "cell_type": "code",
   "execution_count": 40,
   "id": "a62d65a9",
   "metadata": {},
   "outputs": [
    {
     "data": {
      "text/plain": [
       "(-2.8292668241699874,\n",
       " 0.05421329028382711,\n",
       " 12,\n",
       " 130,\n",
       " {'1%': -3.4816817173418295,\n",
       "  '5%': -2.8840418343195267,\n",
       "  '10%': -2.578770059171598},\n",
       " 988.5069317854085)"
      ]
     },
     "execution_count": 40,
     "metadata": {},
     "output_type": "execute_result"
    }
   ],
   "source": [
    "adf_test1"
   ]
  },
  {
   "cell_type": "code",
   "execution_count": 43,
   "id": "56cc1550",
   "metadata": {},
   "outputs": [
    {
     "data": {
      "text/plain": [
       "Month\n",
       "1949-01-31      NaN\n",
       "1949-02-28      NaN\n",
       "1949-03-31      8.0\n",
       "1949-04-30    -17.0\n",
       "1949-05-31     -5.0\n",
       "              ...  \n",
       "1960-08-31   -103.0\n",
       "1960-09-30    -82.0\n",
       "1960-10-31     51.0\n",
       "1960-11-30    -24.0\n",
       "1960-12-31    113.0\n",
       "Name: #Passengers, Length: 144, dtype: float64"
      ]
     },
     "execution_count": 43,
     "metadata": {},
     "output_type": "execute_result"
    }
   ],
   "source": [
    "# second order difference to make stationary\n",
    "ts_diff2=df_airp['#Passengers'].diff().diff()\n",
    "ts_diff2"
   ]
  },
  {
   "cell_type": "code",
   "execution_count": 44,
   "id": "5c7844b8",
   "metadata": {},
   "outputs": [
    {
     "data": {
      "text/plain": [
       "(-16.384231542468513,\n",
       " 2.7328918500142026e-29,\n",
       " 11,\n",
       " 130,\n",
       " {'1%': -3.4816817173418295,\n",
       "  '5%': -2.8840418343195267,\n",
       "  '10%': -2.578770059171598},\n",
       " 988.6020417275606)"
      ]
     },
     "execution_count": 44,
     "metadata": {},
     "output_type": "execute_result"
    }
   ],
   "source": [
    "adf_test2=adfuller(ts_diff2.dropna())\n",
    "adf_test2"
   ]
  },
  {
   "cell_type": "code",
   "execution_count": 38,
   "id": "7197a8c1",
   "metadata": {},
   "outputs": [
    {
     "data": {
      "text/plain": [
       "0.0"
      ]
     },
     "execution_count": 38,
     "metadata": {},
     "output_type": "execute_result"
    }
   ],
   "source": [
    "np.round(adf_test2[1],2)"
   ]
  },
  {
   "cell_type": "code",
   "execution_count": 47,
   "id": "e5e4ab5e",
   "metadata": {},
   "outputs": [],
   "source": [
    "# we can see the p value is <=0.05 . Hence H0 is rejected. So the time series is stationary."
   ]
  },
  {
   "cell_type": "code",
   "execution_count": 48,
   "id": "b6440587",
   "metadata": {},
   "outputs": [],
   "source": [
    "# Auto Correlation Function & Partial Correlation Function\n",
    "from statsmodels.graphics.tsaplots import plot_acf, plot_pacf"
   ]
  },
  {
   "cell_type": "code",
   "execution_count": 50,
   "id": "824a59b2",
   "metadata": {},
   "outputs": [
    {
     "data": {
      "image/png": "[encoded data removed]",
      "text/plain": [
       "<Figure size 432x288 with 1 Axes>"
      ]
     },
     "metadata": {
      "needs_background": "light"
     },
     "output_type": "display_data"
    }
   ],
   "source": [
    "plot_acf(ts_diff2.dropna())\n",
    "plt.show()"
   ]
  },
  {
   "cell_type": "code",
   "execution_count": 51,
   "id": "ae04650b",
   "metadata": {},
   "outputs": [
    {
     "data": {
      "image/png": "[encoded data removed]",
      "text/plain": [
       "<Figure size 432x288 with 1 Axes>"
      ]
     },
     "metadata": {
      "needs_background": "light"
     },
     "output_type": "display_data"
    }
   ],
   "source": [
    "plot_pacf(ts_diff2.dropna())\n",
    "plt.show()"
   ]
  },
  {
   "cell_type": "code",
   "execution_count": 52,
   "id": "213afcd3",
   "metadata": {},
   "outputs": [
    {
     "data": {
      "text/html": [
       "<div>\n",
       "<style scoped>\n",
       "    .dataframe tbody tr th:only-of-type {\n",
       "        vertical-align: middle;\n",
       "    }\n",
       "\n",
       "    .dataframe tbody tr th {\n",
       "        vertical-align: top;\n",
       "    }\n",
       "\n",
       "    .dataframe thead th {\n",
       "        text-align: right;\n",
       "    }\n",
       "</style>\n",
       "<table border=\"1\" class=\"dataframe\">\n",
       "  <thead>\n",
       "    <tr style=\"text-align: right;\">\n",
       "      <th></th>\n",
       "      <th>#Passengers</th>\n",
       "    </tr>\n",
       "    <tr>\n",
       "      <th>Month</th>\n",
       "      <th></th>\n",
       "    </tr>\n",
       "  </thead>\n",
       "  <tbody>\n",
       "    <tr>\n",
       "      <th>1960-08-31</th>\n",
       "      <td>606</td>\n",
       "    </tr>\n",
       "    <tr>\n",
       "      <th>1960-09-30</th>\n",
       "      <td>508</td>\n",
       "    </tr>\n",
       "    <tr>\n",
       "      <th>1960-10-31</th>\n",
       "      <td>461</td>\n",
       "    </tr>\n",
       "    <tr>\n",
       "      <th>1960-11-30</th>\n",
       "      <td>390</td>\n",
       "    </tr>\n",
       "    <tr>\n",
       "      <th>1960-12-31</th>\n",
       "      <td>432</td>\n",
       "    </tr>\n",
       "  </tbody>\n",
       "</table>\n",
       "</div>"
      ],
      "text/plain": [
       "            #Passengers\n",
       "Month                  \n",
       "1960-08-31          606\n",
       "1960-09-30          508\n",
       "1960-10-31          461\n",
       "1960-11-30          390\n",
       "1960-12-31          432"
      ]
     },
     "execution_count": 52,
     "metadata": {},
     "output_type": "execute_result"
    }
   ],
   "source": [
    "df_airp.tail()"
   ]
  },
  {
   "cell_type": "code",
   "execution_count": 53,
   "id": "c66899b6",
   "metadata": {},
   "outputs": [],
   "source": [
    "df_train=df_airp[df_airp.index<pd.to_datetime('1960-01-31')]\n",
    "df_test=df_airp[df_airp.index>=pd.to_datetime('1960-01-31')]"
   ]
  },
  {
   "cell_type": "code",
   "execution_count": 54,
   "id": "7e0b5ef8",
   "metadata": {},
   "outputs": [
    {
     "data": {
      "text/html": [
       "<div>\n",
       "<style scoped>\n",
       "    .dataframe tbody tr th:only-of-type {\n",
       "        vertical-align: middle;\n",
       "    }\n",
       "\n",
       "    .dataframe tbody tr th {\n",
       "        vertical-align: top;\n",
       "    }\n",
       "\n",
       "    .dataframe thead th {\n",
       "        text-align: right;\n",
       "    }\n",
       "</style>\n",
       "<table border=\"1\" class=\"dataframe\">\n",
       "  <thead>\n",
       "    <tr style=\"text-align: right;\">\n",
       "      <th></th>\n",
       "      <th>#Passengers</th>\n",
       "    </tr>\n",
       "    <tr>\n",
       "      <th>Month</th>\n",
       "      <th></th>\n",
       "    </tr>\n",
       "  </thead>\n",
       "  <tbody>\n",
       "    <tr>\n",
       "      <th>1959-08-31</th>\n",
       "      <td>559</td>\n",
       "    </tr>\n",
       "    <tr>\n",
       "      <th>1959-09-30</th>\n",
       "      <td>463</td>\n",
       "    </tr>\n",
       "    <tr>\n",
       "      <th>1959-10-31</th>\n",
       "      <td>407</td>\n",
       "    </tr>\n",
       "    <tr>\n",
       "      <th>1959-11-30</th>\n",
       "      <td>362</td>\n",
       "    </tr>\n",
       "    <tr>\n",
       "      <th>1959-12-31</th>\n",
       "      <td>405</td>\n",
       "    </tr>\n",
       "  </tbody>\n",
       "</table>\n",
       "</div>"
      ],
      "text/plain": [
       "            #Passengers\n",
       "Month                  \n",
       "1959-08-31          559\n",
       "1959-09-30          463\n",
       "1959-10-31          407\n",
       "1959-11-30          362\n",
       "1959-12-31          405"
      ]
     },
     "execution_count": 54,
     "metadata": {},
     "output_type": "execute_result"
    }
   ],
   "source": [
    "df_train.tail()"
   ]
  },
  {
   "cell_type": "code",
   "execution_count": 57,
   "id": "173f8534",
   "metadata": {},
   "outputs": [
    {
     "data": {
      "text/html": [
       "<div>\n",
       "<style scoped>\n",
       "    .dataframe tbody tr th:only-of-type {\n",
       "        vertical-align: middle;\n",
       "    }\n",
       "\n",
       "    .dataframe tbody tr th {\n",
       "        vertical-align: top;\n",
       "    }\n",
       "\n",
       "    .dataframe thead th {\n",
       "        text-align: right;\n",
       "    }\n",
       "</style>\n",
       "<table border=\"1\" class=\"dataframe\">\n",
       "  <thead>\n",
       "    <tr style=\"text-align: right;\">\n",
       "      <th></th>\n",
       "      <th>#Passengers</th>\n",
       "    </tr>\n",
       "    <tr>\n",
       "      <th>Month</th>\n",
       "      <th></th>\n",
       "    </tr>\n",
       "  </thead>\n",
       "  <tbody>\n",
       "    <tr>\n",
       "      <th>1960-01-31</th>\n",
       "      <td>417</td>\n",
       "    </tr>\n",
       "    <tr>\n",
       "      <th>1960-02-29</th>\n",
       "      <td>391</td>\n",
       "    </tr>\n",
       "    <tr>\n",
       "      <th>1960-03-31</th>\n",
       "      <td>419</td>\n",
       "    </tr>\n",
       "    <tr>\n",
       "      <th>1960-04-30</th>\n",
       "      <td>461</td>\n",
       "    </tr>\n",
       "    <tr>\n",
       "      <th>1960-05-31</th>\n",
       "      <td>472</td>\n",
       "    </tr>\n",
       "  </tbody>\n",
       "</table>\n",
       "</div>"
      ],
      "text/plain": [
       "            #Passengers\n",
       "Month                  \n",
       "1960-01-31          417\n",
       "1960-02-29          391\n",
       "1960-03-31          419\n",
       "1960-04-30          461\n",
       "1960-05-31          472"
      ]
     },
     "execution_count": 57,
     "metadata": {},
     "output_type": "execute_result"
    }
   ],
   "source": [
    "df_test.head()"
   ]
  },
  {
   "cell_type": "code",
   "execution_count": 58,
   "id": "c5977e81",
   "metadata": {},
   "outputs": [],
   "source": [
    "from statsmodels.tsa.arima_model import ARIMA"
   ]
  },
  {
   "cell_type": "code",
   "execution_count": 59,
   "id": "faa3b72a",
   "metadata": {},
   "outputs": [],
   "source": [
    "model=ARIMA(df_airp['#Passengers'],order=[1,2,3],freq='M')"
   ]
  },
  {
   "cell_type": "code",
   "execution_count": 60,
   "id": "10b847c0",
   "metadata": {},
   "outputs": [],
   "source": [
    "result=model.fit()"
   ]
  },
  {
   "cell_type": "code",
   "execution_count": 62,
   "id": "4d9b4d3d",
   "metadata": {},
   "outputs": [],
   "source": [
    "# forcating 12 monthly time series analysis of a univariate data\n",
    "predict=result.forecast(12)[0]"
   ]
  },
  {
   "cell_type": "code",
   "execution_count": 64,
   "id": "4f616d0e",
   "metadata": {},
   "outputs": [],
   "source": [
    "from sklearn.metrics import mean_absolute_percentage_error"
   ]
  },
  {
   "cell_type": "code",
   "execution_count": 67,
   "id": "b15ccc2f",
   "metadata": {},
   "outputs": [
    {
     "data": {
      "text/plain": [
       "0.1295081724218289"
      ]
     },
     "execution_count": 67,
     "metadata": {},
     "output_type": "execute_result"
    }
   ],
   "source": [
    "# Error=np.abs(actual-forecast)\n",
    "# % Error= Error/Actual\n",
    "# MAPE = avg across all observations\n",
    "MAPE=mean_absolute_percentage_error(df_test['#Passengers'],predict)\n",
    "MAPE"
   ]
  },
  {
   "cell_type": "code",
   "execution_count": 68,
   "id": "e9b98944",
   "metadata": {},
   "outputs": [],
   "source": [
    "accuracy=1-MAPE"
   ]
  },
  {
   "cell_type": "code",
   "execution_count": 69,
   "id": "b708ff27",
   "metadata": {},
   "outputs": [
    {
     "data": {
      "text/plain": [
       "0.8704918275781711"
      ]
     },
     "execution_count": 69,
     "metadata": {},
     "output_type": "execute_result"
    }
   ],
   "source": [
    "accuracy"
   ]
  },
  {
   "cell_type": "code",
   "execution_count": null,
   "id": "8393ceff",
   "metadata": {},
   "outputs": [],
   "source": []
  }
 ],
 "metadata": {
  "kernelspec": {
   "display_name": "Python 3",
   "language": "python",
   "name": "python3"
  },
  "language_info": {
   "codemirror_mode": {
    "name": "ipython",
    "version": 3
   },
   "file_extension": ".py",
   "mimetype": "text/x-python",
   "name": "python",
   "nbconvert_exporter": "python",
   "pygments_lexer": "ipython3",
   "version": "3.8.8"
  }
 },
 "nbformat": 4,
 "nbformat_minor": 5
}
